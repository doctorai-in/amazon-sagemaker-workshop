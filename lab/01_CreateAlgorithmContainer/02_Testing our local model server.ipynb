{
 "cells": [
  {
   "cell_type": "markdown",
   "metadata": {},
   "source": [
    "## First, let's  test the ping method (GET /ping)\n",
    "This method will be used by Sagemaker for health check our model. It must return a code **200**."
   ]
  },
  {
   "cell_type": "code",
   "execution_count": 9,
   "metadata": {},
   "outputs": [],
   "source": [
    "import json\n",
    "from urllib import request\n",
    "\n",
    "base_url='http://localhost:8080'"
   ]
  },
  {
   "cell_type": "code",
   "execution_count": 10,
   "metadata": {
    "scrolled": true
   },
   "outputs": [
    {
     "name": "stdout",
     "output_type": "stream",
     "text": [
      "Response code: 200\n"
     ]
    }
   ],
   "source": [
    "resp = request.urlopen(\"%s/ping\" % base_url)\n",
    "print(\"Response code: %d\" % resp.getcode() )"
   ]
  },
  {
   "cell_type": "markdown",
   "metadata": {},
   "source": [
    "## Then we can the predictions (POST /invocations)\n",
    "This method will be used by Sagemaker for the predictions. Here we're simulating the header parameter related to the CustomAttributes"
   ]
  },
  {
   "cell_type": "code",
   "execution_count": 11,
   "metadata": {
    "scrolled": true
   },
   "outputs": [
    {
     "name": "stdout",
     "output_type": "stream",
     "text": [
      "Response code: 200, Prediction: b'0.0\\n'\n",
      "\n",
      "content-type text/csv\n",
      "x-request-id ef703d75-75e6-49ff-9ea2-15a3758f0b81\n",
      "Pragma no-cache\n",
      "Cache-Control no-cache; no-store, must-revalidate, private\n",
      "Expires Thu, 01 Jan 1970 00:00:00 UTC\n",
      "content-length 4\n",
      "connection keep-alive\n",
      "Response code: 200, Prediction: b'2.0\\n'\n",
      "\n",
      "content-type text/csv\n",
      "x-request-id 2396e8e0-4440-4d34-9268-5e2afa6f5e5b\n",
      "Pragma no-cache\n",
      "Cache-Control no-cache; no-store, must-revalidate, private\n",
      "Expires Thu, 01 Jan 1970 00:00:00 UTC\n",
      "content-length 4\n",
      "connection keep-alive\n",
      "Response code: 200, Prediction: b'1.0\\n'\n",
      "\n",
      "content-type text/csv\n",
      "x-request-id d6f1a82c-6e43-4c44-a7b3-44fc6af72223\n",
      "Pragma no-cache\n",
      "Cache-Control no-cache; no-store, must-revalidate, private\n",
      "Expires Thu, 01 Jan 1970 00:00:00 UTC\n",
      "content-length 4\n",
      "connection keep-alive\n",
      "CPU times: user 9.42 ms, sys: 24 µs, total: 9.45 ms\n",
      "Wall time: 360 ms\n"
     ]
    }
   ],
   "source": [
    "%%time\n",
    "from sagemaker.serializers import CSVSerializer\n",
    "csv_serializer = CSVSerializer()\n",
    "payloads = [\n",
    "    [4.6, 3.1, 1.5, 0.2], # 0\n",
    "    [7.7, 2.6, 6.9, 2.3], # 2\n",
    "    [6.1, 2.8, 4.7, 1.2]  # 1\n",
    "]\n",
    "\n",
    "def predict(payload):\n",
    "    headers = {\n",
    "        'Content-type': 'text/csv',\n",
    "        'Accept': 'text/csv'\n",
    "    }\n",
    "    \n",
    "    req = request.Request(\"%s/invocations\" % base_url, data=csv_serializer.serialize(payload).encode('utf-8'), headers=headers)\n",
    "    resp = request.urlopen(req)\n",
    "    print(\"Response code: %d, Prediction: %s\\n\" % (resp.getcode(), resp.read()))\n",
    "    for i in resp.headers:\n",
    "        print(i, resp.headers[i])\n",
    "\n",
    "for p in payloads:\n",
    "    predict(p)"
   ]
  },
  {
   "cell_type": "code",
   "execution_count": 5,
   "metadata": {},
   "outputs": [
    {
     "name": "stdout",
     "output_type": "stream",
     "text": [
      "Collecting sagemaker\n",
      "  Downloading sagemaker-2.11.0.tar.gz (306 kB)\n",
      "\u001b[K     |████████████████████████████████| 306 kB 9.8 MB/s eta 0:00:01\n",
      "\u001b[?25hRequirement already satisfied: boto3>=1.14.12 in /home/ec2-user/anaconda3/envs/python3/lib/python3.6/site-packages (from sagemaker) (1.14.60)\n",
      "Collecting google-pasta\n",
      "  Using cached google_pasta-0.2.0-py3-none-any.whl (57 kB)\n",
      "Requirement already satisfied: numpy>=1.9.0 in /home/ec2-user/anaconda3/envs/python3/lib/python3.6/site-packages (from sagemaker) (1.18.1)\n",
      "Requirement already satisfied: protobuf>=3.1 in /home/ec2-user/anaconda3/envs/python3/lib/python3.6/site-packages (from sagemaker) (3.13.0)\n",
      "Requirement already satisfied: protobuf3-to-dict>=0.1.5 in /home/ec2-user/anaconda3/envs/python3/lib/python3.6/site-packages (from sagemaker) (0.1.5)\n",
      "Collecting smdebug-rulesconfig==0.1.5\n",
      "  Using cached smdebug_rulesconfig-0.1.5-py2.py3-none-any.whl (6.2 kB)\n",
      "Requirement already satisfied: importlib-metadata>=1.4.0 in /home/ec2-user/anaconda3/envs/python3/lib/python3.6/site-packages (from sagemaker) (1.5.0)\n",
      "Requirement already satisfied: packaging>=20.0 in /home/ec2-user/anaconda3/envs/python3/lib/python3.6/site-packages (from sagemaker) (20.3)\n",
      "Requirement already satisfied: botocore<1.18.0,>=1.17.60 in /home/ec2-user/anaconda3/envs/python3/lib/python3.6/site-packages (from boto3>=1.14.12->sagemaker) (1.17.60)\n",
      "Requirement already satisfied: jmespath<1.0.0,>=0.7.1 in /home/ec2-user/anaconda3/envs/python3/lib/python3.6/site-packages (from boto3>=1.14.12->sagemaker) (0.9.4)\n",
      "Requirement already satisfied: s3transfer<0.4.0,>=0.3.0 in /home/ec2-user/anaconda3/envs/python3/lib/python3.6/site-packages (from boto3>=1.14.12->sagemaker) (0.3.3)\n",
      "Requirement already satisfied: six in /home/ec2-user/anaconda3/envs/python3/lib/python3.6/site-packages (from google-pasta->sagemaker) (1.14.0)\n",
      "Requirement already satisfied: setuptools in /home/ec2-user/anaconda3/envs/python3/lib/python3.6/site-packages (from protobuf>=3.1->sagemaker) (46.1.3.post20200330)\n",
      "Requirement already satisfied: zipp>=0.5 in /home/ec2-user/anaconda3/envs/python3/lib/python3.6/site-packages (from importlib-metadata>=1.4.0->sagemaker) (2.2.0)\n",
      "Requirement already satisfied: pyparsing>=2.0.2 in /home/ec2-user/anaconda3/envs/python3/lib/python3.6/site-packages (from packaging>=20.0->sagemaker) (2.4.6)\n",
      "Requirement already satisfied: docutils<0.16,>=0.10 in /home/ec2-user/anaconda3/envs/python3/lib/python3.6/site-packages (from botocore<1.18.0,>=1.17.60->boto3>=1.14.12->sagemaker) (0.15.2)\n",
      "Requirement already satisfied: python-dateutil<3.0.0,>=2.1 in /home/ec2-user/anaconda3/envs/python3/lib/python3.6/site-packages (from botocore<1.18.0,>=1.17.60->boto3>=1.14.12->sagemaker) (2.8.1)\n",
      "Requirement already satisfied: urllib3<1.26,>=1.20; python_version != \"3.4\" in /home/ec2-user/anaconda3/envs/python3/lib/python3.6/site-packages (from botocore<1.18.0,>=1.17.60->boto3>=1.14.12->sagemaker) (1.25.8)\n",
      "Building wheels for collected packages: sagemaker\n",
      "  Building wheel for sagemaker (setup.py) ... \u001b[?25ldone\n",
      "\u001b[?25h  Created wheel for sagemaker: filename=sagemaker-2.11.0-py2.py3-none-any.whl size=427027 sha256=0e52313c8c724b88be226e597f27d0696f2705a1eb5cf5c8e89df6b938db8ad0\n",
      "  Stored in directory: /home/ec2-user/.cache/pip/wheels/0d/3d/7a/202123a306ef3b6e1929e7ca94b060545f3517ae4fbfd8b0a0\n",
      "Successfully built sagemaker\n",
      "Installing collected packages: google-pasta, smdebug-rulesconfig, sagemaker\n",
      "  Attempting uninstall: smdebug-rulesconfig\n",
      "    Found existing installation: smdebug-rulesconfig 0.1.4\n",
      "    Uninstalling smdebug-rulesconfig-0.1.4:\n",
      "      Successfully uninstalled smdebug-rulesconfig-0.1.4\n",
      "Successfully installed google-pasta-0.2.0 sagemaker-2.11.0 smdebug-rulesconfig-0.1.5\n",
      "\u001b[33mWARNING: You are using pip version 20.0.2; however, version 20.2.3 is available.\n",
      "You should consider upgrading via the '/home/ec2-user/anaconda3/envs/python3/bin/python -m pip install --upgrade pip' command.\u001b[0m\n"
     ]
    }
   ],
   "source": [
    "!pip3 install sagemaker"
   ]
  },
  {
   "cell_type": "markdown",
   "metadata": {},
   "source": [
    "## Now, you can go back to the previous Jupyter, stop it and continue executing it"
   ]
  },
  {
   "cell_type": "code",
   "execution_count": null,
   "metadata": {},
   "outputs": [],
   "source": []
  }
 ],
 "metadata": {
  "kernelspec": {
   "display_name": "conda_python3",
   "language": "python",
   "name": "conda_python3"
  },
  "language_info": {
   "codemirror_mode": {
    "name": "ipython",
    "version": 3
   },
   "file_extension": ".py",
   "mimetype": "text/x-python",
   "name": "python",
   "nbconvert_exporter": "python",
   "pygments_lexer": "ipython3",
   "version": "3.6.10"
  }
 },
 "nbformat": 4,
 "nbformat_minor": 4
}

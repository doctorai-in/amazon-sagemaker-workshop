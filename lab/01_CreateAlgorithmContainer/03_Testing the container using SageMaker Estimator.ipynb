{
 "cells": [
  {
   "cell_type": "markdown",
   "metadata": {},
   "source": [
    "# Integrated Test\n",
    "In this test, we'll use a SageMaker Estimator (https://sagemaker.readthedocs.io/en/stable/estimators.html) to encapsulate the docker image published to ECR and start a **local** test, but this time, using the SageMaker library."
   ]
  },
  {
   "cell_type": "code",
   "execution_count": 19,
   "metadata": {},
   "outputs": [],
   "source": [
    "import sagemaker\n",
    "import json\n",
    "from sagemaker import get_execution_role\n",
    "\n",
    "role = get_execution_role()\n",
    "sagemaker_session = sagemaker.Session()\n",
    "bucket = sagemaker_session.default_bucket()\n",
    "prefix='mlops/iris'"
   ]
  },
  {
   "cell_type": "code",
   "execution_count": 20,
   "metadata": {},
   "outputs": [
    {
     "name": "stdout",
     "output_type": "stream",
     "text": [
      "sagemaker-us-east-1-686708870566\n"
     ]
    }
   ],
   "source": [
    "print(bucket)"
   ]
  },
  {
   "cell_type": "markdown",
   "metadata": {},
   "source": [
    "## Upload the dataset\n",
    "In the previous exercise, prepared the training and validation dataset. Now, we'll upload the CSVs to S3 and share them with an Estimator"
   ]
  },
  {
   "cell_type": "code",
   "execution_count": 21,
   "metadata": {},
   "outputs": [
    {
     "name": "stdout",
     "output_type": "stream",
     "text": [
      "Train: s3://sagemaker-us-east-1-686708870566/iris-model/input/train\n",
      "Validation: s3://sagemaker-us-east-1-686708870566/iris-model/input/validation\n"
     ]
    }
   ],
   "source": [
    "train_path = sagemaker_session.upload_data(path='input/data/train', key_prefix='iris-model/input/train')\n",
    "test_path = sagemaker_session.upload_data(path='input/data/validation', key_prefix='iris-model/input/validation')\n",
    "print(\"Train: %s\\nValidation: %s\" % (train_path, test_path) )"
   ]
  },
  {
   "cell_type": "markdown",
   "metadata": {},
   "source": [
    "## And now, we can use a SageMaker Estimator for training and deploying the container we've created"
   ]
  },
  {
   "cell_type": "code",
   "execution_count": 22,
   "metadata": {},
   "outputs": [
    {
     "name": "stdout",
     "output_type": "stream",
     "text": [
      "{'max_depth': 20, 'n_jobs': 4, 'n_estimators': 120}\n"
     ]
    }
   ],
   "source": [
    "# Create the estimator\n",
    "# iris-model:test is the name of the container created in the previous notebook\n",
    "# By the local codebuild test. An image with that name:tag was pushed to the ECR.\n",
    "iris = sagemaker.estimator.Estimator('iris-model:test',\n",
    "                                    role,\n",
    "                                    instance_count=1, \n",
    "                                    instance_type='local',\n",
    "                                    output_path='s3://{}/{}/output'.format(bucket, prefix))\n",
    "hyperparameters = {\n",
    "    'max_depth': 20,\n",
    "    'n_jobs': 4,\n",
    "    'n_estimators': 120\n",
    "}\n",
    "\n",
    "print(hyperparameters)\n",
    "iris.set_hyperparameters(**hyperparameters)"
   ]
  },
  {
   "cell_type": "markdown",
   "metadata": {},
   "source": [
    "After you call .fit, a new training job will be executed inside the *local Docker daemon* and not in the SageMaker environment, on the cloud"
   ]
  },
  {
   "cell_type": "code",
   "execution_count": 23,
   "metadata": {},
   "outputs": [
    {
     "name": "stdout",
     "output_type": "stream",
     "text": [
      "Creating tmpw43xq1nc_algo-1-ga36c_1 ... \n",
      "\u001b[1BAttaching to tmpw43xq1nc_algo-1-ga36c_12mdone\u001b[0m\n",
      "\u001b[36malgo-1-ga36c_1  |\u001b[0m Training mode\n",
      "\u001b[36malgo-1-ga36c_1  |\u001b[0m ['/opt/ml/input/data/train/training.csv']\n",
      "\u001b[36malgo-1-ga36c_1  |\u001b[0m      0  ...    4\n",
      "\u001b[36malgo-1-ga36c_1  |\u001b[0m 0  1.0  ...  1.3\n",
      "\u001b[36malgo-1-ga36c_1  |\u001b[0m 1  2.0  ...  2.1\n",
      "\u001b[36malgo-1-ga36c_1  |\u001b[0m 2  1.0  ...  1.5\n",
      "\u001b[36malgo-1-ga36c_1  |\u001b[0m 3  0.0  ...  0.2\n",
      "\u001b[36malgo-1-ga36c_1  |\u001b[0m 4  2.0  ...  2.0\n",
      "\u001b[36malgo-1-ga36c_1  |\u001b[0m 5  1.0  ...  1.0\n",
      "\u001b[36malgo-1-ga36c_1  |\u001b[0m 6  0.0  ...  0.2\n",
      "\u001b[36malgo-1-ga36c_1  |\u001b[0m 7  0.0  ...  0.3\n",
      "\u001b[36malgo-1-ga36c_1  |\u001b[0m 8  0.0  ...  0.4\n",
      "\u001b[36malgo-1-ga36c_1  |\u001b[0m 9  1.0  ...  1.0\n",
      "\u001b[36malgo-1-ga36c_1  |\u001b[0m \n",
      "\u001b[36malgo-1-ga36c_1  |\u001b[0m [10 rows x 5 columns]\n",
      "\u001b[36malgo-1-ga36c_1  |\u001b[0m ['/opt/ml/input/data/validation/testing.csv']\n",
      "\u001b[36malgo-1-ga36c_1  |\u001b[0m      0  ...    4\n",
      "\u001b[36malgo-1-ga36c_1  |\u001b[0m 0  1.0  ...  1.2\n",
      "\u001b[36malgo-1-ga36c_1  |\u001b[0m 1  0.0  ...  0.3\n",
      "\u001b[36malgo-1-ga36c_1  |\u001b[0m 2  2.0  ...  2.3\n",
      "\u001b[36malgo-1-ga36c_1  |\u001b[0m 3  1.0  ...  1.5\n",
      "\u001b[36malgo-1-ga36c_1  |\u001b[0m 4  1.0  ...  1.4\n",
      "\u001b[36malgo-1-ga36c_1  |\u001b[0m 5  0.0  ...  0.4\n",
      "\u001b[36malgo-1-ga36c_1  |\u001b[0m 6  1.0  ...  1.3\n",
      "\u001b[36malgo-1-ga36c_1  |\u001b[0m 7  2.0  ...  2.3\n",
      "\u001b[36malgo-1-ga36c_1  |\u001b[0m 8  1.0  ...  1.5\n",
      "\u001b[36malgo-1-ga36c_1  |\u001b[0m 9  1.0  ...  1.2\n",
      "\u001b[36malgo-1-ga36c_1  |\u001b[0m \n",
      "\u001b[36malgo-1-ga36c_1  |\u001b[0m [10 rows x 5 columns]\n",
      "\u001b[36malgo-1-ga36c_1  |\u001b[0m Training the classifier\n",
      "\u001b[36malgo-1-ga36c_1  |\u001b[0m [Parallel(n_jobs=2)]: Using backend ThreadingBackend with 2 concurrent workers.\n",
      "\u001b[36malgo-1-ga36c_1  |\u001b[0m [Parallel(n_jobs=2)]: Done  46 tasks      | elapsed:    0.1s\n",
      "\u001b[36malgo-1-ga36c_1  |\u001b[0m [Parallel(n_jobs=2)]: Done 120 out of 120 | elapsed:    0.2s finished\n",
      "\u001b[36malgo-1-ga36c_1  |\u001b[0m [Parallel(n_jobs=2)]: Using backend ThreadingBackend with 2 concurrent workers.\n",
      "\u001b[36malgo-1-ga36c_1  |\u001b[0m [Parallel(n_jobs=2)]: Done  46 tasks      | elapsed:    0.0s\n",
      "\u001b[36malgo-1-ga36c_1  |\u001b[0m [Parallel(n_jobs=2)]: Done 120 out of 120 | elapsed:    0.0s finished\n",
      "\u001b[36malgo-1-ga36c_1  |\u001b[0m Score: 0.98\n",
      "\u001b[36mtmpw43xq1nc_algo-1-ga36c_1 exited with code 0\n",
      "\u001b[0mAborting on container exit...\n",
      "===== Job Complete =====\n"
     ]
    }
   ],
   "source": [
    "iris.fit({'train': train_path, 'validation': test_path })"
   ]
  },
  {
   "cell_type": "markdown",
   "metadata": {},
   "source": [
    "The next command will launch a new container in your local Docker daemon. Then you can use the returned predictor for testing it"
   ]
  },
  {
   "cell_type": "code",
   "execution_count": 24,
   "metadata": {},
   "outputs": [
    {
     "name": "stdout",
     "output_type": "stream",
     "text": [
      "Attaching to tmp7ztycp42_algo-1-zdcl4_1\n",
      "\u001b[36malgo-1-zdcl4_1  |\u001b[0m Warning: Calling MMS with mxnet-model-server. Please move to multi-model-server.\n",
      "\u001b[36malgo-1-zdcl4_1  |\u001b[0m 2020-10-01 14:49:28,282 [INFO ] main com.amazonaws.ml.mms.ModelServer - \n",
      "\u001b[36malgo-1-zdcl4_1  |\u001b[0m MMS Home: /usr/local/lib/python3.7/site-packages\n",
      "\u001b[36malgo-1-zdcl4_1  |\u001b[0m Current directory: /\n",
      "\u001b[36malgo-1-zdcl4_1  |\u001b[0m Temp directory: /tmp\n",
      "\u001b[36malgo-1-zdcl4_1  |\u001b[0m Number of GPUs: 0\n",
      "\u001b[36malgo-1-zdcl4_1  |\u001b[0m Number of CPUs: 2\n",
      "\u001b[36malgo-1-zdcl4_1  |\u001b[0m Max heap size: 988 M\n",
      "\u001b[36malgo-1-zdcl4_1  |\u001b[0m Python executable: /usr/local/bin/python\n",
      "\u001b[36malgo-1-zdcl4_1  |\u001b[0m Config file: /etc/sagemaker-mms.properties\n",
      "\u001b[36malgo-1-zdcl4_1  |\u001b[0m Inference address: http://0.0.0.0:8080\n",
      "\u001b[36malgo-1-zdcl4_1  |\u001b[0m Management address: http://0.0.0.0:8080\n",
      "\u001b[36malgo-1-zdcl4_1  |\u001b[0m Model Store: /.sagemaker/mms/models\n",
      "\u001b[36malgo-1-zdcl4_1  |\u001b[0m Initial Models: ALL\n",
      "\u001b[36malgo-1-zdcl4_1  |\u001b[0m Log dir: /logs\n",
      "\u001b[36malgo-1-zdcl4_1  |\u001b[0m Metrics dir: /logs\n",
      "\u001b[36malgo-1-zdcl4_1  |\u001b[0m Netty threads: 0\n",
      "\u001b[36malgo-1-zdcl4_1  |\u001b[0m Netty client threads: 0\n",
      "\u001b[36malgo-1-zdcl4_1  |\u001b[0m Default workers per model: 2\n",
      "\u001b[36malgo-1-zdcl4_1  |\u001b[0m Blacklist Regex: N/A\n",
      "\u001b[36malgo-1-zdcl4_1  |\u001b[0m Maximum Response Size: 6553500\n",
      "\u001b[36malgo-1-zdcl4_1  |\u001b[0m Maximum Request Size: 6553500\n",
      "\u001b[36malgo-1-zdcl4_1  |\u001b[0m Preload model: false\n",
      "\u001b[36malgo-1-zdcl4_1  |\u001b[0m Prefer direct buffer: false\n",
      "\u001b[36malgo-1-zdcl4_1  |\u001b[0m 2020-10-01 14:49:28,370 [WARN ] W-9000-model com.amazonaws.ml.mms.wlm.WorkerLifeCycle - attachIOStreams() threadName=W-9000-model\n",
      "\u001b[36malgo-1-zdcl4_1  |\u001b[0m 2020-10-01 14:49:28,446 [INFO ] W-9000-model-stdout com.amazonaws.ml.mms.wlm.WorkerLifeCycle - model_service_worker started with args: --sock-type unix --sock-name /tmp/.mms.sock.9000 --handler serving.handler --model-path /.sagemaker/mms/models/model --model-name model --preload-model false --tmp-dir /tmp\n",
      "\u001b[36malgo-1-zdcl4_1  |\u001b[0m 2020-10-01 14:49:28,446 [INFO ] W-9000-model-stdout com.amazonaws.ml.mms.wlm.WorkerLifeCycle - Listening on port: /tmp/.mms.sock.9000\n",
      "\u001b[36malgo-1-zdcl4_1  |\u001b[0m 2020-10-01 14:49:28,447 [INFO ] W-9000-model-stdout com.amazonaws.ml.mms.wlm.WorkerLifeCycle - [PID] 30\n",
      "\u001b[36malgo-1-zdcl4_1  |\u001b[0m 2020-10-01 14:49:28,448 [INFO ] W-9000-model-stdout com.amazonaws.ml.mms.wlm.WorkerLifeCycle - MMS worker started.\n",
      "\u001b[36malgo-1-zdcl4_1  |\u001b[0m 2020-10-01 14:49:28,448 [INFO ] W-9000-model-stdout com.amazonaws.ml.mms.wlm.WorkerLifeCycle - Python runtime: 3.7.9\n",
      "\u001b[36malgo-1-zdcl4_1  |\u001b[0m 2020-10-01 14:49:28,449 [INFO ] main com.amazonaws.ml.mms.wlm.ModelManager - Model model loaded.\n",
      "\u001b[36malgo-1-zdcl4_1  |\u001b[0m 2020-10-01 14:49:28,462 [INFO ] main com.amazonaws.ml.mms.ModelServer - Initialize Inference server with: EpollServerSocketChannel.\n",
      "\u001b[36malgo-1-zdcl4_1  |\u001b[0m 2020-10-01 14:49:28,485 [INFO ] W-9000-model com.amazonaws.ml.mms.wlm.WorkerThread - Connecting to: /tmp/.mms.sock.9000\n",
      "\u001b[36malgo-1-zdcl4_1  |\u001b[0m 2020-10-01 14:49:28,485 [INFO ] W-9000-model com.amazonaws.ml.mms.wlm.WorkerThread - Connecting to: /tmp/.mms.sock.9000\n",
      "\u001b[36malgo-1-zdcl4_1  |\u001b[0m 2020-10-01 14:49:28,584 [INFO ] main com.amazonaws.ml.mms.ModelServer - Inference API bind to: http://0.0.0.0:8080\n",
      "\u001b[36malgo-1-zdcl4_1  |\u001b[0m Model server started.\n",
      "\u001b[36malgo-1-zdcl4_1  |\u001b[0m 2020-10-01 14:49:28,590 [INFO ] W-9000-model-stdout com.amazonaws.ml.mms.wlm.WorkerLifeCycle - Connection accepted: /tmp/.mms.sock.9000.\n",
      "\u001b[36malgo-1-zdcl4_1  |\u001b[0m 2020-10-01 14:49:28,597 [INFO ] W-9000-model-stdout com.amazonaws.ml.mms.wlm.WorkerLifeCycle - Connection accepted: /tmp/.mms.sock.9000.\n",
      "\u001b[36malgo-1-zdcl4_1  |\u001b[0m 2020-10-01 14:49:28,609 [WARN ] pool-2-thread-1 com.amazonaws.ml.mms.metrics.MetricCollector - worker pid is not available yet.\n",
      "\u001b[36malgo-1-zdcl4_1  |\u001b[0m 2020-10-01 14:49:29,323 [INFO ] W-9000-model-stdout com.amazonaws.ml.mms.wlm.WorkerLifeCycle - Model model loaded io_fd=0242acfffe120002-0000000a-00000002-feb7b733a4e3b6bd-696d602a\n",
      "\u001b[36malgo-1-zdcl4_1  |\u001b[0m 2020-10-01 14:49:29,328 [INFO ] W-9000-model-stdout com.amazonaws.ml.mms.wlm.WorkerLifeCycle - Model model loaded io_fd=0242acfffe120002-0000000a-00000000-08bc6733a4e3b6bd-51609386\n",
      "\u001b[36malgo-1-zdcl4_1  |\u001b[0m 2020-10-01 14:49:29,337 [INFO ] W-9000-model com.amazonaws.ml.mms.wlm.WorkerThread - Backend response time: 630\n",
      "\u001b[36malgo-1-zdcl4_1  |\u001b[0m 2020-10-01 14:49:29,337 [INFO ] W-9000-model com.amazonaws.ml.mms.wlm.WorkerThread - Backend response time: 620\n",
      "\u001b[36malgo-1-zdcl4_1  |\u001b[0m 2020-10-01 14:49:29,343 [WARN ] W-9000-model com.amazonaws.ml.mms.wlm.WorkerLifeCycle - attachIOStreams() threadName=W-model-2\n",
      "\u001b[36malgo-1-zdcl4_1  |\u001b[0m 2020-10-01 14:49:29,343 [WARN ] W-9000-model com.amazonaws.ml.mms.wlm.WorkerLifeCycle - attachIOStreams() threadName=W-model-1\n",
      "\u001b[36malgo-1-zdcl4_1  |\u001b[0m 2020-10-01 14:49:30,520 [INFO ] pool-1-thread-4 ACCESS_LOG - /172.18.0.1:59880 \"GET /ping HTTP/1.1\" 200 25\n",
      "!"
     ]
    }
   ],
   "source": [
    "iris_predictor = iris.deploy(initial_instance_count=1, instance_type='local')"
   ]
  },
  {
   "cell_type": "markdown",
   "metadata": {},
   "source": [
    "Now, let's use the predictor (https://sagemaker.readthedocs.io/en/stable/predictors.html) for some tests."
   ]
  },
  {
   "cell_type": "code",
   "execution_count": 25,
   "metadata": {},
   "outputs": [
    {
     "name": "stdout",
     "output_type": "stream",
     "text": [
      "\u001b[36malgo-1-zdcl4_1  |\u001b[0m 2020-10-01 14:49:32,423 [WARN ] W-model-2-stderr com.amazonaws.ml.mms.wlm.WorkerLifeCycle - [Parallel(n_jobs=2)]: Using backend ThreadingBackend with 2 concurrent workers.\n",
      "\u001b[36malgo-1-zdcl4_1  |\u001b[0m 2020-10-01 14:49:32,438 [WARN ] W-model-2-stderr com.amazonaws.ml.mms.wlm.WorkerLifeCycle - [Parallel(n_jobs=2)]: Done  46 tasks      | elapsed:    0.0s\n",
      "\u001b[36malgo-1-zdcl4_1  |\u001b[0m 2020-10-01 14:49:32,454 [WARN ] W-model-2-stderr com.amazonaws.ml.mms.wlm.WorkerLifeCycle - [Parallel(n_jobs=2)]: Done 120 out of 120 | elapsed:    0.0s finished\n",
      "\u001b[36malgo-1-zdcl4_1  |\u001b[0m 2020-10-01 14:49:32,527 [INFO ] W-9000-model com.amazonaws.ml.mms.wlm.WorkerThread - Backend response time: 106\n",
      "\u001b[36malgo-1-zdcl4_1  |\u001b[0m 2020-10-01 14:49:32,529 [INFO ] W-9000-model ACCESS_LOG - /172.18.0.1:59884 \"POST /invocations HTTP/1.1\" 200 110\n",
      "RESULT: 1.0 == [['1.0']] ? False\n",
      "\u001b[36malgo-1-zdcl4_1  |\u001b[0m 2020-10-01 14:49:32,536 [WARN ] W-model-1-stderr com.amazonaws.ml.mms.wlm.WorkerLifeCycle - [Parallel(n_jobs=2)]: Using backend ThreadingBackend with 2 concurrent workers.\n",
      "\u001b[36malgo-1-zdcl4_1  |\u001b[0m 2020-10-01 14:49:32,549 [WARN ] W-model-1-stderr com.amazonaws.ml.mms.wlm.WorkerLifeCycle - [Parallel(n_jobs=2)]: Done  46 tasks      | elapsed:    0.0s\n",
      "\u001b[36malgo-1-zdcl4_1  |\u001b[0m 2020-10-01 14:49:32,564 [WARN ] W-model-1-stderr com.amazonaws.ml.mms.wlm.WorkerLifeCycle - [Parallel(n_jobs=2)]: Done 120 out of 120 | elapsed:    0.0s finished\n",
      "\u001b[36malgo-1-zdcl4_1  |\u001b[0m 2020-10-01 14:49:32,641 [INFO ] W-9000-model com.amazonaws.ml.mms.wlm.WorkerThread - Backend response time: 106\n",
      "\u001b[36malgo-1-zdcl4_1  |\u001b[0m 2020-10-01 14:49:32,642 [INFO ] W-9000-model ACCESS_LOG - /172.18.0.1:59884 \"POST /invocations HTTP/1.1\" 200 108\n",
      "RESULT: 0.0 == [['0.0']] ? False\n",
      "\u001b[36malgo-1-zdcl4_1  |\u001b[0m 2020-10-01 14:49:32,647 [WARN ] W-model-2-stderr com.amazonaws.ml.mms.wlm.WorkerLifeCycle - [Parallel(n_jobs=2)]: Using backend ThreadingBackend with 2 concurrent workers.\n",
      "\u001b[36malgo-1-zdcl4_1  |\u001b[0m 2020-10-01 14:49:32,657 [WARN ] W-model-2-stderr com.amazonaws.ml.mms.wlm.WorkerLifeCycle - [Parallel(n_jobs=2)]: Done  46 tasks      | elapsed:    0.0s\n",
      "\u001b[36malgo-1-zdcl4_1  |\u001b[0m 2020-10-01 14:49:32,672 [WARN ] W-model-2-stderr com.amazonaws.ml.mms.wlm.WorkerLifeCycle - [Parallel(n_jobs=2)]: Done 120 out of 120 | elapsed:    0.0s finished\n",
      "\u001b[36malgo-1-zdcl4_1  |\u001b[0m 2020-10-01 14:49:32,749 [INFO ] W-9000-model com.amazonaws.ml.mms.wlm.WorkerThread - Backend response time: 104\n",
      "\u001b[36malgo-1-zdcl4_1  |\u001b[0m 2020-10-01 14:49:32,750 [INFO ] W-9000-model ACCESS_LOG - /172.18.0.1:59884 \"POST /invocations HTTP/1.1\" 200 106\n",
      "RESULT: 1.0 == [['1.0']] ? False\n",
      "\u001b[36malgo-1-zdcl4_1  |\u001b[0m 2020-10-01 14:49:32,754 [WARN ] W-model-1-stderr com.amazonaws.ml.mms.wlm.WorkerLifeCycle - [Parallel(n_jobs=2)]: Using backend ThreadingBackend with 2 concurrent workers.\n",
      "\u001b[36malgo-1-zdcl4_1  |\u001b[0m 2020-10-01 14:49:32,766 [WARN ] W-model-1-stderr com.amazonaws.ml.mms.wlm.WorkerLifeCycle - [Parallel(n_jobs=2)]: Done  46 tasks      | elapsed:    0.0s\n",
      "\u001b[36malgo-1-zdcl4_1  |\u001b[0m 2020-10-01 14:49:32,780 [WARN ] W-model-1-stderr com.amazonaws.ml.mms.wlm.WorkerLifeCycle - [Parallel(n_jobs=2)]: Done 120 out of 120 | elapsed:    0.0s finished\n",
      "\u001b[36malgo-1-zdcl4_1  |\u001b[0m 2020-10-01 14:49:32,857 [INFO ] W-9000-model com.amazonaws.ml.mms.wlm.WorkerThread - Backend response time: 104\n",
      "\u001b[36malgo-1-zdcl4_1  |\u001b[0m 2020-10-01 14:49:32,857 [INFO ] W-9000-model ACCESS_LOG - /172.18.0.1:59884 \"POST /invocations HTTP/1.1\" 200 105\n",
      "RESULT: 2.0 == [['2.0']] ? False\n",
      "\u001b[36malgo-1-zdcl4_1  |\u001b[0m 2020-10-01 14:49:32,865 [WARN ] W-model-2-stderr com.amazonaws.ml.mms.wlm.WorkerLifeCycle - [Parallel(n_jobs=2)]: Using backend ThreadingBackend with 2 concurrent workers.\n",
      "\u001b[36malgo-1-zdcl4_1  |\u001b[0m 2020-10-01 14:49:32,876 [WARN ] W-model-2-stderr com.amazonaws.ml.mms.wlm.WorkerLifeCycle - [Parallel(n_jobs=2)]: Done  46 tasks      | elapsed:    0.0s\n",
      "\u001b[36malgo-1-zdcl4_1  |\u001b[0m 2020-10-01 14:49:32,889 [WARN ] W-model-2-stderr com.amazonaws.ml.mms.wlm.WorkerLifeCycle - [Parallel(n_jobs=2)]: Done 120 out of 120 | elapsed:    0.0s finished\n",
      "\u001b[36malgo-1-zdcl4_1  |\u001b[0m 2020-10-01 14:49:32,967 [INFO ] W-9000-model com.amazonaws.ml.mms.wlm.WorkerThread - Backend response time: 104\n",
      "\u001b[36malgo-1-zdcl4_1  |\u001b[0m 2020-10-01 14:49:32,968 [INFO ] W-9000-model ACCESS_LOG - /172.18.0.1:59884 \"POST /invocations HTTP/1.1\" 200 106\n",
      "RESULT: 1.0 == [['1.0']] ? False\n"
     ]
    }
   ],
   "source": [
    "import pandas as pd\n",
    "import random\n",
    "from sagemaker.serializers import CSVSerializer\n",
    "from sagemaker.deserializers import CSVDeserializer\n",
    "\n",
    "# configure the predictor to do everything for us\n",
    "iris_predictor.serializer = CSVSerializer()\n",
    "iris_predictor.deserializer = CSVDeserializer()\n",
    "\n",
    "# load the testing data from the validation csv\n",
    "validation = pd.read_csv('input/data/validation/testing.csv', header=None)\n",
    "idx = random.randint(0,len(validation)-5)\n",
    "req = validation.iloc[idx:idx+5].values\n",
    "\n",
    "# cut a sample with 5 lines from our dataset and then split the label from the features.\n",
    "X = req[:,1:].tolist()\n",
    "y = req[:,0].tolist()\n",
    "\n",
    "# call the local endpoint\n",
    "for features,label in zip(X,y):\n",
    "    prediction = iris_predictor.predict(features)\n",
    "\n",
    "    # compare the results\n",
    "    print(\"RESULT: {} == {} ? {}\".format( label, prediction, label == prediction ) )"
   ]
  },
  {
   "cell_type": "code",
   "execution_count": 26,
   "metadata": {},
   "outputs": [
    {
     "name": "stdout",
     "output_type": "stream",
     "text": [
      "Gracefully stopping... (press Ctrl+C again to force)\n"
     ]
    }
   ],
   "source": [
    "iris_predictor.delete_endpoint()"
   ]
  },
  {
   "cell_type": "markdown",
   "metadata": {},
   "source": [
    "### That's it! :) Now you can go back to the previous Jupyter notebook and commit the assets to start building the Final Docker Image"
   ]
  }
 ],
 "metadata": {
  "kernelspec": {
   "display_name": "conda_python3",
   "language": "python",
   "name": "conda_python3"
  },
  "language_info": {
   "codemirror_mode": {
    "name": "ipython",
    "version": 3
   },
   "file_extension": ".py",
   "mimetype": "text/x-python",
   "name": "python",
   "nbconvert_exporter": "python",
   "pygments_lexer": "ipython3",
   "version": "3.6.10"
  }
 },
 "nbformat": 4,
 "nbformat_minor": 4
}
